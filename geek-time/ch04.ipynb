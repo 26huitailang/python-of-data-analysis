{
 "cells": [
  {
   "cell_type": "code",
   "execution_count": 19,
   "metadata": {},
   "outputs": [],
   "source": [
    "# coding: utf-8\n",
    "import numpy as np"
   ]
  },
  {
   "cell_type": "code",
   "execution_count": 21,
   "metadata": {},
   "outputs": [],
   "source": [
    "gradetype = np.dtype({\n",
    "    'names': ['name', 'chinese', 'english', 'math'],\n",
    "    'formats': ['S32', 'i', 'i', 'i']\n",
    "})\n",
    "peoples = np.array(\n",
    "    [('zf', 66, 65, 30), ('gy', 95, 85, 98), ('zy', 93, 92, 96),\n",
    "     ('hz', 90, 88, 77), ('dw', 80, 90, 90)],\n",
    "    dtype=gradetype\n",
    ")"
   ]
  },
  {
   "cell_type": "code",
   "execution_count": 38,
   "metadata": {},
   "outputs": [
    {
     "name": "stdout",
     "output_type": "stream",
     "text": [
      "84.8\n",
      "84.0\n",
      "78.2\n"
     ]
    }
   ],
   "source": [
    "# 平均成绩\n",
    "print(np.mean(peoples['chinese']))\n",
    "print(np.mean(peoples['english']))\n",
    "print(np.mean(peoples['math']))"
   ]
  },
  {
   "cell_type": "code",
   "execution_count": 41,
   "metadata": {},
   "outputs": [
    {
     "name": "stdout",
     "output_type": "stream",
     "text": [
      "66\n",
      "65\n",
      "30\n"
     ]
    }
   ],
   "source": [
    "# 最小成绩\n",
    "print(np.amin(peoples['chinese']))\n",
    "print(np.amin(peoples['english']))\n",
    "print(np.amin(peoples['math']))"
   ]
  },
  {
   "cell_type": "code",
   "execution_count": 43,
   "metadata": {},
   "outputs": [
    {
     "name": "stdout",
     "output_type": "stream",
     "text": [
      "95\n",
      "92\n",
      "98\n"
     ]
    }
   ],
   "source": [
    "# 最大成绩\n",
    "print(np.amax(peoples['chinese']))\n",
    "print(np.amax(peoples['english']))\n",
    "print(np.amax(peoples['math']))"
   ]
  },
  {
   "cell_type": "code",
   "execution_count": 44,
   "metadata": {},
   "outputs": [
    {
     "name": "stdout",
     "output_type": "stream",
     "text": [
      "114.96000000000001\n",
      "95.6\n",
      "634.56\n",
      "10.721940122944169\n",
      "9.777525249264253\n",
      "25.19047439013406\n"
     ]
    }
   ],
   "source": [
    "# 方差，标准差\n",
    "print(np.var(peoples['chinese']))\n",
    "print(np.var(peoples['english']))\n",
    "print(np.var(peoples['math']))\n",
    "\n",
    "print(np.std(peoples['chinese']))\n",
    "print(np.std(peoples['english']))\n",
    "print(np.std(peoples['math']))"
   ]
  },
  {
   "cell_type": "code",
   "execution_count": null,
   "metadata": {},
   "outputs": [],
   "source": []
  }
 ],
 "metadata": {
  "kernelspec": {
   "display_name": "Python 3",
   "language": "python",
   "name": "python3"
  },
  "language_info": {
   "codemirror_mode": {
    "name": "ipython",
    "version": 3
   },
   "file_extension": ".py",
   "mimetype": "text/x-python",
   "name": "python",
   "nbconvert_exporter": "python",
   "pygments_lexer": "ipython3",
   "version": "3.6.4"
  }
 },
 "nbformat": 4,
 "nbformat_minor": 2
}
