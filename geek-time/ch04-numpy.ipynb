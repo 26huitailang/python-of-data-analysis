{
 "cells": [
  {
   "cell_type": "code",
   "execution_count": 1,
   "metadata": {},
   "outputs": [],
   "source": [
    "# coding: utf-8\n",
    "import numpy as np"
   ]
  },
  {
   "cell_type": "code",
   "execution_count": 15,
   "metadata": {},
   "outputs": [],
   "source": [
    "gradetype = np.dtype({\n",
    "    'names': ['name', 'chinese', 'english', 'math', 'total'],\n",
    "    'formats': ['S32', 'i', 'i', 'i', 'i']\n",
    "})\n",
    "peoples = np.array(\n",
    "    [('zf', 66, 65, 30, 0), ('gy', 95, 85, 98, 0), ('zy', 93, 92, 96, 0),\n",
    "     ('hz', 90, 88, 77, 0), ('dw', 80, 90, 90, 0)],\n",
    "    dtype=gradetype\n",
    ")"
   ]
  },
  {
   "cell_type": "code",
   "execution_count": 16,
   "metadata": {},
   "outputs": [
    {
     "name": "stdout",
     "output_type": "stream",
     "text": [
      "84.8\n",
      "84.0\n",
      "78.2\n"
     ]
    }
   ],
   "source": [
    "# 平均成绩\n",
    "print(np.mean(peoples['chinese']))\n",
    "print(np.mean(peoples['english']))\n",
    "print(np.mean(peoples['math']))"
   ]
  },
  {
   "cell_type": "code",
   "execution_count": 17,
   "metadata": {},
   "outputs": [
    {
     "name": "stdout",
     "output_type": "stream",
     "text": [
      "66\n",
      "65\n",
      "30\n"
     ]
    }
   ],
   "source": [
    "# 最小成绩\n",
    "print(np.amin(peoples['chinese']))\n",
    "print(np.amin(peoples['english']))\n",
    "print(np.amin(peoples['math']))"
   ]
  },
  {
   "cell_type": "code",
   "execution_count": 18,
   "metadata": {},
   "outputs": [
    {
     "name": "stdout",
     "output_type": "stream",
     "text": [
      "95\n",
      "92\n",
      "98\n"
     ]
    }
   ],
   "source": [
    "# 最大成绩\n",
    "print(np.amax(peoples['chinese']))\n",
    "print(np.amax(peoples['english']))\n",
    "print(np.amax(peoples['math']))"
   ]
  },
  {
   "cell_type": "code",
   "execution_count": 6,
   "metadata": {},
   "outputs": [
    {
     "name": "stdout",
     "output_type": "stream",
     "text": [
      "114.96000000000001\n",
      "95.6\n",
      "634.56\n",
      "10.721940122944169\n",
      "9.777525249264253\n",
      "25.19047439013406\n"
     ]
    }
   ],
   "source": [
    "# 方差，标准差\n",
    "print(np.var(peoples['chinese']))\n",
    "print(np.var(peoples['english']))\n",
    "print(np.var(peoples['math']))\n",
    "\n",
    "print(np.std(peoples['chinese']))\n",
    "print(np.std(peoples['english']))\n",
    "print(np.std(peoples['math']))"
   ]
  },
  {
   "cell_type": "code",
   "execution_count": 25,
   "metadata": {},
   "outputs": [
    {
     "data": {
      "text/plain": [
       "array([(b'zf', 66, 65, 30, 161), (b'gy', 95, 85, 98, 278),\n",
       "       (b'zy', 93, 92, 96, 281), (b'hz', 90, 88, 77, 255),\n",
       "       (b'dw', 80, 90, 90, 260)],\n",
       "      dtype=[('name', 'S32'), ('chinese', '<i4'), ('english', '<i4'), ('math', '<i4'), ('total', '<i4')])"
      ]
     },
     "execution_count": 25,
     "metadata": {},
     "output_type": "execute_result"
    }
   ],
   "source": [
    "# 总成绩排序\n",
    "peoples[:]['total'] = peoples['chinese'] + peoples['english'] + peoples['math']\n",
    "peoples"
   ]
  },
  {
   "cell_type": "code",
   "execution_count": 28,
   "metadata": {},
   "outputs": [
    {
     "data": {
      "text/plain": [
       "array([(b'zy', 93, 92, 96, 281), (b'gy', 95, 85, 98, 278),\n",
       "       (b'dw', 80, 90, 90, 260), (b'hz', 90, 88, 77, 255),\n",
       "       (b'zf', 66, 65, 30, 161)],\n",
       "      dtype=[('name', 'S32'), ('chinese', '<i4'), ('english', '<i4'), ('math', '<i4'), ('total', '<i4')])"
      ]
     },
     "execution_count": 28,
     "metadata": {},
     "output_type": "execute_result"
    }
   ],
   "source": [
    "orderd_peoples = np.sort(peoples, order='total')  # 按total升序，sort不支持设置降序，可以拿到新的对象自己翻转\n",
    "orderd_peoples[::-1]\n"
   ]
  },
  {
   "cell_type": "code",
   "execution_count": null,
   "metadata": {},
   "outputs": [],
   "source": []
  }
 ],
 "metadata": {
  "kernelspec": {
   "display_name": "Python 3",
   "language": "python",
   "name": "python3"
  },
  "language_info": {
   "codemirror_mode": {
    "name": "ipython",
    "version": 3
   },
   "file_extension": ".py",
   "mimetype": "text/x-python",
   "name": "python",
   "nbconvert_exporter": "python",
   "pygments_lexer": "ipython3",
   "version": "3.6.4"
  }
 },
 "nbformat": 4,
 "nbformat_minor": 2
}
